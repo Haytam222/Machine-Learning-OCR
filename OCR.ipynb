{
 "cells": [
  {
   "cell_type": "code",
   "execution_count": 13,
   "metadata": {},
   "outputs": [],
   "source": [
    "import pytesseract"
   ]
  },
  {
   "cell_type": "code",
   "execution_count": 14,
   "metadata": {},
   "outputs": [],
   "source": [
    "pytesseract.pytesseract.tesseract_cmd=r'C:\\\\Program Files\\\\Tesseract-OCR\\\\tesseract.exe'"
   ]
  },
  {
   "cell_type": "code",
   "execution_count": 15,
   "metadata": {},
   "outputs": [],
   "source": [
    "import cv2"
   ]
  },
  {
   "cell_type": "code",
   "execution_count": 19,
   "metadata": {},
   "outputs": [],
   "source": [
    "img=cv2.imread('datascience.png')\n",
    "cv2.imshow('img',img)\n",
    "cv2.waitKey(0)\n",
    "cv2.destroyAllWindows()"
   ]
  },
  {
   "cell_type": "code",
   "execution_count": 17,
   "metadata": {},
   "outputs": [],
   "source": [
    "text=pytesseract.image_to_string(img)"
   ]
  },
  {
   "cell_type": "code",
   "execution_count": 18,
   "metadata": {},
   "outputs": [
    {
     "name": "stdout",
     "output_type": "stream",
     "text": [
      "Science des données\n",
      "\n",
      "En termes généraux, la science des données est extraction de connaissance d'ensembles de\n",
      "données\" Elle emploie des techniques et des théories tirées de plusieurs autres domaines\n",
      "plus larges des mathématiques, analyse, optimisation et statistique principalement, la théorie de\n",
      "Finformation et la technologie de information, notamment le traitement de signal, des modéles\n",
      "probabllistes, 'apprentissage automatique, lapprentissage statistique, la programmation\n",
      "informatique, 'ingénierie de données, la reconnaissance de formes et 'apprentissage, la\n",
      "visualisation, 'analytique prophétique, la modélisation d'incertitude, le stockage de données, la\n",
      ".g60-visualisation®, la compression de données et le calcul a haute performance. Les méthodes\n",
      "qui s'adaptent aux données de masse sont particuliérement intéressantes dans la science des\n",
      "données, bien que la discipline ne soit généralement pas considérée comme limitée & ces\n",
      "données.\n",
      "\f",
      "\n"
     ]
    }
   ],
   "source": [
    "print(text)"
   ]
  },
  {
   "cell_type": "code",
   "execution_count": null,
   "metadata": {},
   "outputs": [],
   "source": [
    "img1=cv2.imread('')\n",
    "cv2.imshow('img1',img1)\n",
    "cv2.waitKey(0)\n",
    "cv2.destroyAllWindows()"
   ]
  },
  {
   "cell_type": "code",
   "execution_count": null,
   "metadata": {},
   "outputs": [],
   "source": [
    "text1=pytesseract.image_to_string(img1)\n",
    "print(text2)"
   ]
  }
 ],
 "metadata": {
  "kernelspec": {
   "display_name": "Python 3",
   "language": "python",
   "name": "python3"
  },
  "language_info": {
   "codemirror_mode": {
    "name": "ipython",
    "version": 3
   },
   "file_extension": ".py",
   "mimetype": "text/x-python",
   "name": "python",
   "nbconvert_exporter": "python",
   "pygments_lexer": "ipython3",
   "version": "3.8.3"
  }
 },
 "nbformat": 4,
 "nbformat_minor": 4
}
